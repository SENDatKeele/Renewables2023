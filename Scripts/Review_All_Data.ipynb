{
 "cells": [
  {
   "cell_type": "markdown",
   "id": "11c28c86",
   "metadata": {},
   "source": [
    "# Script presenting data for checking"
   ]
  },
  {
   "cell_type": "code",
   "execution_count": 2,
   "id": "783ee628",
   "metadata": {},
   "outputs": [],
   "source": [
    "import plotly.graph_objs as go\n",
    "import pandas as pd\n",
    "import os"
   ]
  },
  {
   "cell_type": "code",
   "execution_count": null,
   "id": "3e453649",
   "metadata": {},
   "outputs": [],
   "source": [
    "Solcast_Path = '../Renewables2023_Private/Private_Data/Solcast/Solcast_Formatted.csv'\n",
    "Public = False\n",
    "\n",
    "# Checking if the necessary files exist for formatting.\n",
    "if not os.path.exists(Solcast_Path):\n",
    "    print(f\"Warning: Some of this script will not run without the formatted Solcast data in {Solcast_Path}`.\\n\",\n",
    "          'Please download the data from `solcast.com` at 5 minute cadence for all of 2023.\\n',\n",
    "          'Then run the script in `Scripts/Utils/Format_Solcast.ipynb` to format the data.')\n",
    "    Public = True"
   ]
  },
  {
   "cell_type": "code",
   "execution_count": null,
   "id": "d08e9440",
   "metadata": {},
   "outputs": [],
   "source": [
    "DEOP = pd.read_csv('../Data/DEOP/2023_DEOP_Interp.csv',\n",
    "                    parse_dates=['DateTime'],\n",
    "                    index_col=['DateTime']).astype(float)\n",
    "\n",
    "if Public is False:\n",
    "    Solcast = pd.read_csv(Solcast_Path,\n",
    "                        parse_dates=['DateTime'],\n",
    "                        index_col=['DateTime']).astype(float)\n",
    "    \n",
    "    Power_Expectation_Path = '../Renewables2023_Private/Private_Data/Solcast/Power_Expectation.csv'\n",
    "\n",
    "    if not os.path.exists(Power_Expectation_Path):\n",
    "        print(f\"Warning: This script will not run without the processed data in {Power_Expectation_Path}`.\\n\",\n",
    "          'To create this file, please run the script at `Scripts/Renewable_Energy_Efficiency.ipynb`.')\n",
    "    else:\n",
    "        PowerExpectation = pd.read_csv(Power_Expectation_Path,\n",
    "                            parse_dates=['DateTime'],\n",
    "                            index_col=['DateTime']).astype(float)\n",
    "else:\n",
    "    Solcast = None"
   ]
  },
  {
   "cell_type": "code",
   "execution_count": 5,
   "id": "58841b1c",
   "metadata": {},
   "outputs": [],
   "source": [
    "# Calculating total power generation.\n",
    "DEOP['power-gencomb-ave'] = (DEOP['power-gen-wt-ave'] + DEOP['power-gen-pv-ave']).clip(lower=0)\n",
    "\n",
    "# Calculating power excess.\n",
    "DEOP['power-excess-ave'] = (DEOP['power-gencomb-ave'] - DEOP['power-con-ave']).clip(lower=0)\n",
    "\n",
    "# Calculating power generation subtracted from power consumption.\n",
    "DEOP['power-congen-ave'] = (DEOP['power-con-ave'] - DEOP['power-gencomb-ave'])"
   ]
  },
  {
   "cell_type": "code",
   "execution_count": 6,
   "id": "a7269ddf",
   "metadata": {},
   "outputs": [],
   "source": [
    "ColourPallet = ['#000000','#E69F00','#56B4E9','#009E73','#0072B2','#D55E00','#CC79A7']"
   ]
  },
  {
   "cell_type": "code",
   "execution_count": null,
   "id": "4d35d5bc",
   "metadata": {},
   "outputs": [],
   "source": [
    "if Public is False:  \n",
    "    Solcast['P_KEWind'] = PowerExpectation['P_KEWind']\n",
    "    Solcast['P_MaxSun'] = PowerExpectation['P_MaxSolar']\n",
    "\n",
    "stats = pd.read_csv('../Data/Analysis/Data_Tables/csv/statistics.csv',index_col=0)"
   ]
  },
  {
   "cell_type": "code",
   "execution_count": 8,
   "id": "e60e0151",
   "metadata": {},
   "outputs": [],
   "source": [
    "def CheckData(dfs,colours,y_label,data_labels,title):\n",
    "    \"\"\"\n",
    "    Function for plotting data to check through it\n",
    "\n",
    "    Parameters\n",
    "    ----------\n",
    "    dfs : List\n",
    "        List of DataFrames to plot (pd.DataFrame).\n",
    "    colours : List\n",
    "        List of colours of lines to plot.\n",
    "    y_label : str\n",
    "        y-axis label.\n",
    "    data_labels : List\n",
    "        List of labels to describe data in legend (str).\n",
    "    title : str\n",
    "        Title of plot.\n",
    "    \"\"\"\n",
    "    fig = go.Figure()\n",
    "    for i in range(len(dfs)):\n",
    "        fig.add_trace(go.Scatter(x=dfs[i].index,y=dfs[i],mode='lines',name=data_labels[i],opacity=0.6,line_color=colours[i]))\n",
    "    \n",
    "    fig.update_layout(\n",
    "    title=title,\n",
    "    xaxis_title='Time',\n",
    "    yaxis_title=y_label,\n",
    "    template='plotly_white')\n",
    "    \n",
    "    fig.show()\n",
    "    "
   ]
  },
  {
   "cell_type": "code",
   "execution_count": null,
   "id": "c0e6c2c6",
   "metadata": {},
   "outputs": [],
   "source": [
    "# Example use of the function, plotting true and expected solar power generation.\n",
    "\n",
    "CheckData([DEOP['power-gen-pv-ave'],Solcast['P_MaxSun']*stats.loc['eta_Solar','mean']],ColourPallet,y_label='Power [kW]',\n",
    "          data_labels=['Generation','Expectation'],title='True and expected solar power generation.')"
   ]
  }
 ],
 "metadata": {
  "kernelspec": {
   "display_name": "DataAnalysis",
   "language": "python",
   "name": "python3"
  },
  "language_info": {
   "codemirror_mode": {
    "name": "ipython",
    "version": 3
   },
   "file_extension": ".py",
   "mimetype": "text/x-python",
   "name": "python",
   "nbconvert_exporter": "python",
   "pygments_lexer": "ipython3",
   "version": "3.12.6"
  }
 },
 "nbformat": 4,
 "nbformat_minor": 5
}

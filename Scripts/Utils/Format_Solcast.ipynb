{
 "cells": [
  {
   "cell_type": "markdown",
   "metadata": {},
   "source": [
    "# Test to read in raw data"
   ]
  },
  {
   "cell_type": "code",
   "execution_count": 5,
   "metadata": {},
   "outputs": [],
   "source": [
    "import pandas as pd \n",
    "import os"
   ]
  },
  {
   "cell_type": "code",
   "execution_count": null,
   "metadata": {},
   "outputs": [],
   "source": [
    "Solcast_Path = '../../Private_Data/Solcast/Solcast.csv'\n",
    "\n",
    "# Checking if the necessary files exist for formatting.\n",
    "if not os.path.exists(Solcast_Path):\n",
    "    print(f\"Warning: This script will not run without the original Solcast data in {Solcast_Path}`.\\n\",\n",
    "          'Please download the data from `solcast.com` at 5 minute cadence for all of 2023.')"
   ]
  },
  {
   "cell_type": "code",
   "execution_count": 7,
   "metadata": {},
   "outputs": [],
   "source": [
    "df = pd.read_csv('../../Private_Data/Solcast/Solcast.csv')\n",
    "\n",
    "# Making the date and time readable by Python.\n",
    "format_date = '%Y-%m-%dT%H:%M:%S%z'\n",
    "df['DateTime'] = pd.to_datetime(df['period_end'],format=format_date)\n",
    "\n",
    "# Removing the UTC formatting of the date and time.\n",
    "df['DateTime'] = df['DateTime'].dt.tz_localize(None)\n",
    "\n",
    "# Setting the index to DateTime.\n",
    "df.index = df.DateTime"
   ]
  },
  {
   "cell_type": "code",
   "execution_count": 8,
   "metadata": {},
   "outputs": [],
   "source": [
    "# Filter so the data are of the same length as the DEOP data.\n",
    "df = df.loc[(df.index >= '2023-01-01 00:05')\n",
    "                     & (df.index <= '2023-12-31 23:55')]"
   ]
  },
  {
   "cell_type": "code",
   "execution_count": 9,
   "metadata": {},
   "outputs": [],
   "source": [
    "df.to_csv('../../Private_Data/Solcast/Solcast_Formatted.csv',index=False,\n",
    "          columns=['air_temp', 'gti','surface_pressure', \n",
    "                   'snow_depth','wind_speed_100m','DateTime'])"
   ]
  }
 ],
 "metadata": {
  "kernelspec": {
   "display_name": "Python 3",
   "language": "python",
   "name": "python3"
  },
  "language_info": {
   "codemirror_mode": {
    "name": "ipython",
    "version": 3
   },
   "file_extension": ".py",
   "mimetype": "text/x-python",
   "name": "python",
   "nbconvert_exporter": "python",
   "pygments_lexer": "ipython3",
   "version": "3.12.1"
  }
 },
 "nbformat": 4,
 "nbformat_minor": 2
}

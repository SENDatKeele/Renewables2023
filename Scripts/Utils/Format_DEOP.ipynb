{
 "cells": [
  {
   "cell_type": "markdown",
   "metadata": {},
   "source": [
    "# Formatting DEOP Data"
   ]
  },
  {
   "cell_type": "code",
   "execution_count": 20,
   "metadata": {},
   "outputs": [],
   "source": [
    "import pandas as pd\n",
    "import numpy as np\n",
    "import os"
   ]
  },
  {
   "cell_type": "code",
   "execution_count": null,
   "metadata": {},
   "outputs": [],
   "source": [
    "DEOP_Path = '../../Private_Data/DEOP/'\n",
    "\n",
    "# Checking if the necessary files exist for formatting.\n",
    "if not any(os.path.isfile(os.path.join(DEOP_Path, f)) for f in os.listdir(DEOP_Path)):\n",
    "    print(f\"Warning: This script will not run without the original DEOP data in {DEOP_Path}.\")"
   ]
  },
  {
   "cell_type": "code",
   "execution_count": 22,
   "metadata": {},
   "outputs": [
    {
     "name": "stdout",
     "output_type": "stream",
     "text": [
      "202301\n",
      "202302\n",
      "202303\n",
      "202304\n",
      "202305\n",
      "202306\n",
      "202307\n",
      "202308\n",
      "202309\n",
      "202310\n",
      "202311\n",
      "202312\n",
      "Index(['date0', 'time0', 'power-ss13-max', 'power-ss13-min', 'power-ss13-ave',\n",
      "       'date1', 'time1', 'power-gen-max', 'power-gen-min', 'power-gen-ave',\n",
      "       'date2', 'time2', 'power-con-max', 'power-con-min', 'power-con-ave',\n",
      "       'date3', 'time3', 'power-gen-wt-max', 'power-gen-wt-min',\n",
      "       'power-gen-wt-ave', 'date4', 'time4', 'power-gen-pv-max',\n",
      "       'power-gen-pv-min', 'power-gen-pv-ave', 'date5', 'time5',\n",
      "       'storage-charge-max', 'storage-charge-min', 'storage-charge-ave',\n",
      "       'DateTime'],\n",
      "      dtype='object')\n"
     ]
    }
   ],
   "source": [
    "year = '2023'\n",
    "start_month = 1\n",
    "end_month = 12\n",
    "\n",
    "months = []\n",
    "\n",
    "# Read in each month file individually.\n",
    "for ii in range(start_month,end_month+1,1):\n",
    "    month = year+str('%02d' % ii)\n",
    "    print(month)\n",
    "    df = pd.read_csv(f'../../Private_Data/DEOP/DEOP-export-AD Campus Renewables {month}.csv',sep=';',\n",
    "                     dtype={'date0':str,'time0':str,'power-con-ave':float,\n",
    "                            'power-gen-wt-ave':float,'power-gen-pv-ave':float})\n",
    "    \n",
    "    # Format the date and time so they are readable by Python.\n",
    "    format_date = \"%m/%d/%Y %I:%M:%S %p\"\n",
    "    df['DateTime'] = pd.to_datetime(df['date0']+' '+df['time0'],format=format_date)\n",
    "    months.append(df)\n",
    "\n",
    "combined_months = pd.concat(months,ignore_index=True)\n",
    "print(combined_months.columns)"
   ]
  },
  {
   "cell_type": "code",
   "execution_count": 23,
   "metadata": {},
   "outputs": [],
   "source": [
    "# Set the index to DateTime.\n",
    "combined_months.index = combined_months.DateTime\n",
    "\n",
    "# Filter so the data are of the same length as the Solcast data.\n",
    "combined_months = combined_months.loc[(combined_months.index >= '2023-01-01 00:05')\n",
    "                     & (combined_months.index <= '2023-12-31 23:55')]"
   ]
  },
  {
   "cell_type": "code",
   "execution_count": 24,
   "metadata": {},
   "outputs": [],
   "source": [
    "# Replacing NaN with zero.\n",
    "combined_months = combined_months.fillna(0)\n",
    "\n",
    "# Creating a lower limit for consumption and production of zero.\n",
    "combined_months['power-con-ave']= combined_months['power-con-ave'].clip(lower=0)\n",
    "combined_months['power-gen-wt-ave'] = combined_months['power-gen-wt-ave'].clip(lower=0)\n",
    "combined_months['power-gen-pv-ave'] = combined_months['power-gen-pv-ave'].clip(lower=0)"
   ]
  },
  {
   "cell_type": "code",
   "execution_count": 25,
   "metadata": {},
   "outputs": [],
   "source": [
    "# Create a copy of the DataFrame\n",
    "averaged_comb_months = combined_months.copy()\n",
    "\n",
    "# Interpolating power consumption\n",
    "averaged_comb_months['power-con-ave'] = averaged_comb_months['power-con-ave'].replace(0, np.nan)\n",
    "averaged_comb_months['power-con-ave'] = averaged_comb_months['power-con-ave'].interpolate()\n"
   ]
  },
  {
   "cell_type": "code",
   "execution_count": 26,
   "metadata": {},
   "outputs": [],
   "source": [
    "# The original data.\n",
    "combined_months.to_csv(f'../../Data/DEOP/{year}_DEOP.csv',index=False,\n",
    "                       columns=['power-con-ave','power-gen-wt-ave','power-gen-pv-ave','DateTime'])\n",
    "\n",
    "# The dataset which includes interpolated data.\n",
    "averaged_comb_months.to_csv(f'../../Data/DEOP/{year}_DEOP_Interp.csv',index=False,\n",
    "                            columns=['power-con-ave','power-gen-wt-ave','power-gen-pv-ave','DateTime'])"
   ]
  }
 ],
 "metadata": {
  "kernelspec": {
   "display_name": "Python 3",
   "language": "python",
   "name": "python3"
  },
  "language_info": {
   "codemirror_mode": {
    "name": "ipython",
    "version": 3
   },
   "file_extension": ".py",
   "mimetype": "text/x-python",
   "name": "python",
   "nbconvert_exporter": "python",
   "pygments_lexer": "ipython3",
   "version": "3.12.1"
  }
 },
 "nbformat": 4,
 "nbformat_minor": 2
}
